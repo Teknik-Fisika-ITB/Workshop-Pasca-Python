{
 "cells": [
  {
   "cell_type": "markdown",
   "id": "aa8f78b2",
   "metadata": {},
   "source": [
    "# Definisi Fungsi"
   ]
  },
  {
   "cell_type": "markdown",
   "id": "91aa8270",
   "metadata": {},
   "source": [
    "## fungsi sederhana\n",
    "\n",
    "fungsi akan mengikuti kaidah dalam matematika\n",
    "\n",
    "$y = 2x+1 $\n",
    "dapat kita buat menjadi fungsi\n",
    "$f(x) = 2x+1$\n",
    "\n"
   ]
  },
  {
   "cell_type": "code",
   "execution_count": 15,
   "id": "2e9c04c4",
   "metadata": {},
   "outputs": [],
   "source": [
    "def f(x):\n",
    "    y = 2*x + 1\n",
    "    return y"
   ]
  },
  {
   "cell_type": "code",
   "execution_count": 2,
   "id": "7c2c14e0",
   "metadata": {},
   "outputs": [
    {
     "data": {
      "text/plain": [
       "21"
      ]
     },
     "execution_count": 2,
     "metadata": {},
     "output_type": "execute_result"
    }
   ],
   "source": [
    "f(10)"
   ]
  },
  {
   "cell_type": "code",
   "execution_count": 3,
   "id": "4e0807f8",
   "metadata": {},
   "outputs": [],
   "source": [
    "x = 10\n",
    "y = 2*x + 1"
   ]
  },
  {
   "cell_type": "code",
   "execution_count": 4,
   "id": "c0c76108",
   "metadata": {},
   "outputs": [
    {
     "name": "stdout",
     "output_type": "stream",
     "text": [
      "21\n"
     ]
    }
   ],
   "source": [
    "print(y)"
   ]
  },
  {
   "cell_type": "markdown",
   "id": "f822d087",
   "metadata": {},
   "source": [
    "## fungsi kuadrat"
   ]
  },
  {
   "cell_type": "code",
   "execution_count": 5,
   "id": "696c31f8",
   "metadata": {},
   "outputs": [],
   "source": [
    "def kuadrat(angka):\n",
    "    hasil = angka**2\n",
    "    return hasil"
   ]
  },
  {
   "cell_type": "code",
   "execution_count": 6,
   "id": "f6443e3e",
   "metadata": {},
   "outputs": [
    {
     "data": {
      "text/plain": [
       "100"
      ]
     },
     "execution_count": 6,
     "metadata": {},
     "output_type": "execute_result"
    }
   ],
   "source": [
    "kuadrat(10)"
   ]
  },
  {
   "cell_type": "code",
   "execution_count": 7,
   "id": "37ceb835",
   "metadata": {},
   "outputs": [
    {
     "data": {
      "text/plain": [
       "121"
      ]
     },
     "execution_count": 7,
     "metadata": {},
     "output_type": "execute_result"
    }
   ],
   "source": [
    "kuadrat(11)"
   ]
  },
  {
   "cell_type": "code",
   "execution_count": 8,
   "id": "3f97ecce",
   "metadata": {},
   "outputs": [
    {
     "data": {
      "text/plain": [
       "999999998000000001"
      ]
     },
     "execution_count": 8,
     "metadata": {},
     "output_type": "execute_result"
    }
   ],
   "source": [
    "kuadrat(999999999)"
   ]
  },
  {
   "cell_type": "markdown",
   "id": "93134c37",
   "metadata": {},
   "source": [
    "## fungsi PID"
   ]
  },
  {
   "cell_type": "markdown",
   "id": "b884fc3e",
   "metadata": {},
   "source": [
    "$mv = K_p*e(t)$"
   ]
  },
  {
   "cell_type": "code",
   "execution_count": 9,
   "id": "fd239be6",
   "metadata": {},
   "outputs": [],
   "source": [
    "def sinyal_control(K_p,error):\n",
    "    return K_p*error"
   ]
  },
  {
   "cell_type": "code",
   "execution_count": 10,
   "id": "424f844e",
   "metadata": {},
   "outputs": [],
   "source": [
    "manipulated_variable = sinyal_control(1,100)"
   ]
  },
  {
   "cell_type": "code",
   "execution_count": 11,
   "id": "5e962a4e",
   "metadata": {},
   "outputs": [
    {
     "name": "stdout",
     "output_type": "stream",
     "text": [
      "100\n"
     ]
    }
   ],
   "source": [
    "print(manipulated_variable)"
   ]
  },
  {
   "cell_type": "markdown",
   "id": "ce35b81c",
   "metadata": {},
   "source": [
    "# Fungsi dengan banyak output"
   ]
  },
  {
   "cell_type": "code",
   "execution_count": 13,
   "id": "33b09058",
   "metadata": {},
   "outputs": [],
   "source": [
    "def hitung_luas_keliling(panjang,lebar):\n",
    "    # luas persegi panjang\n",
    "    luas = panjang * lebar\n",
    "    keliling = 2*(panjang+lebar)\n",
    "    \n",
    "    return luas,keliling"
   ]
  },
  {
   "cell_type": "code",
   "execution_count": null,
   "id": "abd56dfe",
   "metadata": {},
   "outputs": [],
   "source": [
    "a,b = hitung_luas_keliling(10,2)"
   ]
  },
  {
   "cell_type": "code",
   "execution_count": null,
   "id": "575a0da8",
   "metadata": {},
   "outputs": [],
   "source": [
    "a"
   ]
  },
  {
   "cell_type": "code",
   "execution_count": null,
   "id": "2417c5a8",
   "metadata": {},
   "outputs": [],
   "source": [
    "b"
   ]
  }
 ],
 "metadata": {
  "kernelspec": {
   "display_name": "Python 3 (ipykernel)",
   "language": "python",
   "name": "python3"
  },
  "language_info": {
   "codemirror_mode": {
    "name": "ipython",
    "version": 3
   },
   "file_extension": ".py",
   "mimetype": "text/x-python",
   "name": "python",
   "nbconvert_exporter": "python",
   "pygments_lexer": "ipython3",
   "version": "3.9.13"
  },
  "vscode": {
   "interpreter": {
    "hash": "186c45062af8093d51a5962574f783426caf3feb7f27cfe030f201780da03cdf"
   }
  }
 },
 "nbformat": 4,
 "nbformat_minor": 5
}
