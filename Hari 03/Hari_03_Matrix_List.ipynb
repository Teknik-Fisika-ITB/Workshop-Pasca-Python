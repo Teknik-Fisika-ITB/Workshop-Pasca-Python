{
 "cells": [
  {
   "cell_type": "markdown",
   "id": "ca08ceeb",
   "metadata": {},
   "source": [
    "# Matrix"
   ]
  },
  {
   "cell_type": "code",
   "execution_count": 2,
   "id": "0f70903b",
   "metadata": {},
   "outputs": [],
   "source": [
    "vector = [1,2,3,4]"
   ]
  },
  {
   "cell_type": "code",
   "execution_count": 5,
   "id": "f0f0718b",
   "metadata": {},
   "outputs": [],
   "source": [
    "matrix = [\n",
    "    [1,2,5],\n",
    "    [3,4,6]\n",
    "]"
   ]
  },
  {
   "cell_type": "code",
   "execution_count": 11,
   "id": "874d70a1",
   "metadata": {},
   "outputs": [
    {
     "name": "stdout",
     "output_type": "stream",
     "text": [
      "[[1, 2, 5], [3, 4, 6]]\n"
     ]
    }
   ],
   "source": [
    "print(matrix)"
   ]
  },
  {
   "cell_type": "code",
   "execution_count": 32,
   "id": "601109d4",
   "metadata": {},
   "outputs": [],
   "source": [
    "def print_matrix(data_matrix):\n",
    "    rows = len(data_matrix)\n",
    "    cols = len(data_matrix[0])\n",
    "    \n",
    "    for m in range(rows):\n",
    "        for n in range(cols): \n",
    "            print(f\"{data_matrix[m][n]} \",end=\"\")\n",
    "        print(f\"\\n\",end=\"\")\n",
    "    "
   ]
  },
  {
   "cell_type": "code",
   "execution_count": 33,
   "id": "0386940f",
   "metadata": {},
   "outputs": [
    {
     "name": "stdout",
     "output_type": "stream",
     "text": [
      "1 2 5 \n",
      "3 4 6 \n"
     ]
    }
   ],
   "source": [
    "print_matrix(matrix)"
   ]
  },
  {
   "cell_type": "code",
   "execution_count": 34,
   "id": "c12b109e",
   "metadata": {},
   "outputs": [],
   "source": [
    "matrix_1 = [\n",
    "    [1,2,5],\n",
    "    [3,4,6]\n",
    "]\n",
    "\n",
    "matrix_2 = [\n",
    "    [1,1,1],\n",
    "    [1,1,1]\n",
    "]"
   ]
  },
  {
   "cell_type": "code",
   "execution_count": 35,
   "id": "3d98f099",
   "metadata": {},
   "outputs": [],
   "source": [
    "def penjumlahan_matrix(data_matrix_1, data_matrix_2):\n",
    "    rows = len(data_matrix_1)\n",
    "    cols = len(data_matrix_1[0])\n",
    "    \n",
    "    matrix_luar = []\n",
    "    for m in range(rows):\n",
    "        vector_dalam = []\n",
    "        for n in range(cols): \n",
    "            hasil = data_matrix_1[m][n] + data_matrix_2[m][n]\n",
    "            vector_dalam.append(hasil)\n",
    "        matrix_luar.append(vector_dalam)\n",
    "    \n",
    "    return matrix_luar\n"
   ]
  },
  {
   "cell_type": "code",
   "execution_count": 36,
   "id": "7e6d5c10",
   "metadata": {},
   "outputs": [
    {
     "data": {
      "text/plain": [
       "[[2, 3, 6], [4, 5, 7]]"
      ]
     },
     "execution_count": 36,
     "metadata": {},
     "output_type": "execute_result"
    }
   ],
   "source": [
    "penjumlahan_matrix(matrix_1, matrix_2)"
   ]
  },
  {
   "cell_type": "code",
   "execution_count": 37,
   "id": "0fb535f2",
   "metadata": {},
   "outputs": [],
   "source": [
    "matrix_1 = [\n",
    "    [1,2,5,6],\n",
    "    [3,4,6,9],\n",
    "    [3,4,6,9],\n",
    "    [3,4,6,9]\n",
    "]\n",
    "\n",
    "matrix_2 = [\n",
    "    [1,1,1,1],\n",
    "    [1,1,1,1],\n",
    "    [1,1,1,1],\n",
    "    [1,1,1,1]\n",
    "]"
   ]
  },
  {
   "cell_type": "code",
   "execution_count": 40,
   "id": "d37bb472",
   "metadata": {},
   "outputs": [],
   "source": [
    "matrix_3 = penjumlahan_matrix(matrix_1, matrix_2)"
   ]
  },
  {
   "cell_type": "code",
   "execution_count": 41,
   "id": "381c0973",
   "metadata": {},
   "outputs": [
    {
     "name": "stdout",
     "output_type": "stream",
     "text": [
      "2 3 6 7 \n",
      "4 5 7 10 \n",
      "4 5 7 10 \n",
      "4 5 7 10 \n"
     ]
    }
   ],
   "source": [
    "print_matrix(matrix_3)"
   ]
  },
  {
   "cell_type": "code",
   "execution_count": 43,
   "id": "cdbe7ec5",
   "metadata": {},
   "outputs": [],
   "source": [
    "import numpy as np"
   ]
  },
  {
   "cell_type": "code",
   "execution_count": 46,
   "id": "5ce4cf92",
   "metadata": {},
   "outputs": [],
   "source": [
    "matrix_a = np.array(matrix_1)\n",
    "matrix_b = np.array(matrix_2)\n",
    "matrix_c = matrix_a + matrix_b"
   ]
  },
  {
   "cell_type": "code",
   "execution_count": 48,
   "id": "2d7932e4",
   "metadata": {},
   "outputs": [
    {
     "name": "stdout",
     "output_type": "stream",
     "text": [
      "[[ 2  3  6  7]\n",
      " [ 4  5  7 10]\n",
      " [ 4  5  7 10]\n",
      " [ 4  5  7 10]]\n"
     ]
    }
   ],
   "source": [
    "print(matrix_c)"
   ]
  },
  {
   "cell_type": "code",
   "execution_count": null,
   "id": "5e0e43cd",
   "metadata": {},
   "outputs": [],
   "source": []
  }
 ],
 "metadata": {
  "kernelspec": {
   "display_name": "Python 3 (ipykernel)",
   "language": "python",
   "name": "python3"
  },
  "language_info": {
   "codemirror_mode": {
    "name": "ipython",
    "version": 3
   },
   "file_extension": ".py",
   "mimetype": "text/x-python",
   "name": "python",
   "nbconvert_exporter": "python",
   "pygments_lexer": "ipython3",
   "version": "3.9.13"
  }
 },
 "nbformat": 4,
 "nbformat_minor": 5
}
