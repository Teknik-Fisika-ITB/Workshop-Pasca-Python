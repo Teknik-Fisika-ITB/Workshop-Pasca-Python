{
 "cells": [
  {
   "cell_type": "markdown",
   "id": "a0f7d591",
   "metadata": {},
   "source": [
    "# Latihan List untuk operasi matematika"
   ]
  },
  {
   "cell_type": "code",
   "execution_count": 1,
   "id": "f6261f9a",
   "metadata": {},
   "outputs": [],
   "source": [
    "vector_1 = [1,2,3,4,5,4,3,2,5]\n",
    "vector_2 = [6,5,4,4,0,1,9,5,6]"
   ]
  },
  {
   "cell_type": "code",
   "execution_count": 2,
   "id": "7f02f876",
   "metadata": {},
   "outputs": [],
   "source": [
    "panjang_vector_1 = len(vector_1)\n",
    "panjang_vector_2 = len(vector_2)"
   ]
  },
  {
   "cell_type": "code",
   "execution_count": 3,
   "id": "f73aa4ae",
   "metadata": {},
   "outputs": [
    {
     "name": "stdout",
     "output_type": "stream",
     "text": [
      "jumlah vector\n"
     ]
    }
   ],
   "source": [
    "vector_3 = []\n",
    "\n",
    "if panjang_vector_1 == panjang_vector_2:\n",
    "    print(\"jumlah vector\")\n",
    "    \n",
    "    for i in range(panjang_vector_1):\n",
    "        hasil = vector_1[i] + vector_2[i]\n",
    "        vector_3.append(hasil)\n",
    "        \n",
    "else:\n",
    "    print(\"tidak bisa\")"
   ]
  },
  {
   "cell_type": "code",
   "execution_count": 4,
   "id": "16b38d7e",
   "metadata": {},
   "outputs": [
    {
     "name": "stdout",
     "output_type": "stream",
     "text": [
      "[7, 7, 7, 8, 5, 5, 12, 7, 11]\n"
     ]
    }
   ],
   "source": [
    "print(vector_3)"
   ]
  },
  {
   "cell_type": "markdown",
   "id": "4af977cb",
   "metadata": {},
   "source": [
    "## kita ubah menjadi fungsi\n"
   ]
  },
  {
   "cell_type": "code",
   "execution_count": 9,
   "id": "8000842c",
   "metadata": {},
   "outputs": [],
   "source": [
    "def penjumlahan_vector(vector_1,vector_2):\n",
    "    panjang_vector_1 = len(vector_1)\n",
    "    panjang_vector_2 = len(vector_2)\n",
    "    vector_3 = []\n",
    "\n",
    "    if panjang_vector_1 == panjang_vector_2:\n",
    "        print(\"jumlah vector\")\n",
    "\n",
    "        for i in range(panjang_vector_1):\n",
    "            hasil = vector_1[i] + vector_2[i]\n",
    "            vector_3.append(hasil)\n",
    "\n",
    "    else:\n",
    "        print(\"tidak bisa\")\n",
    "    \n",
    "    return vector_3"
   ]
  },
  {
   "cell_type": "code",
   "execution_count": 6,
   "id": "648a7b18",
   "metadata": {},
   "outputs": [
    {
     "name": "stdout",
     "output_type": "stream",
     "text": [
      "jumlah vector\n"
     ]
    },
    {
     "data": {
      "text/plain": [
       "[2, 4, 6, 8, 10]"
      ]
     },
     "execution_count": 6,
     "metadata": {},
     "output_type": "execute_result"
    }
   ],
   "source": [
    "penjumlahan_vector([1,2,3,4,5],[1,2,3,4,5])"
   ]
  },
  {
   "cell_type": "markdown",
   "id": "6177c319",
   "metadata": {},
   "source": [
    "### buat fungsi di file external\n"
   ]
  },
  {
   "cell_type": "code",
   "execution_count": 13,
   "id": "a3f6e388",
   "metadata": {},
   "outputs": [],
   "source": [
    "import fungsi_vector\n"
   ]
  },
  {
   "cell_type": "code",
   "execution_count": 14,
   "id": "f8426bd4",
   "metadata": {},
   "outputs": [
    {
     "name": "stdout",
     "output_type": "stream",
     "text": [
      "jumlah vector\n"
     ]
    },
    {
     "data": {
      "text/plain": [
       "[2, 4, 6, 8, 10]"
      ]
     },
     "execution_count": 14,
     "metadata": {},
     "output_type": "execute_result"
    }
   ],
   "source": [
    "fungsi_vector.penjumlahan_vector([1,2,3,4,5],[1,2,3,4,5])"
   ]
  },
  {
   "cell_type": "code",
   "execution_count": null,
   "id": "7607b7bf",
   "metadata": {},
   "outputs": [],
   "source": []
  }
 ],
 "metadata": {
  "kernelspec": {
   "display_name": "Python 3 (ipykernel)",
   "language": "python",
   "name": "python3"
  },
  "language_info": {
   "codemirror_mode": {
    "name": "ipython",
    "version": 3
   },
   "file_extension": ".py",
   "mimetype": "text/x-python",
   "name": "python",
   "nbconvert_exporter": "python",
   "pygments_lexer": "ipython3",
   "version": "3.9.13"
  }
 },
 "nbformat": 4,
 "nbformat_minor": 5
}
