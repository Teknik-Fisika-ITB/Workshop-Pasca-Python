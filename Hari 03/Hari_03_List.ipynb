{
 "cells": [
  {
   "cell_type": "markdown",
   "id": "1e890cf3",
   "metadata": {},
   "source": [
    "# List\n",
    "cara membuat list dengan menggunakan tanda []"
   ]
  },
  {
   "cell_type": "markdown",
   "id": "35c2fd94",
   "metadata": {},
   "source": [
    "### membuat list"
   ]
  },
  {
   "cell_type": "code",
   "execution_count": 1,
   "id": "a7cf9198",
   "metadata": {},
   "outputs": [],
   "source": [
    "data_list = [1,2,3,4,5,6,7]"
   ]
  },
  {
   "cell_type": "code",
   "execution_count": 2,
   "id": "f01648b9",
   "metadata": {},
   "outputs": [
    {
     "name": "stdout",
     "output_type": "stream",
     "text": [
      "[1, 2, 3, 4, 5, 6, 7]\n"
     ]
    }
   ],
   "source": [
    "print(data_list)"
   ]
  },
  {
   "cell_type": "markdown",
   "id": "a3425ded",
   "metadata": {},
   "source": [
    "### akses data list / indexing"
   ]
  },
  {
   "cell_type": "code",
   "execution_count": 3,
   "id": "27f3b0cf",
   "metadata": {},
   "outputs": [
    {
     "name": "stdout",
     "output_type": "stream",
     "text": [
      "['irvan', 'adit', 'masitoh', 'aya', 'aulia']\n"
     ]
    }
   ],
   "source": [
    "list_str = [\"irvan\",\"adit\",\"masitoh\",\"aya\",\"aulia\"]\n",
    "print(list_str)"
   ]
  },
  {
   "cell_type": "code",
   "execution_count": 4,
   "id": "f6207cae",
   "metadata": {},
   "outputs": [
    {
     "name": "stdout",
     "output_type": "stream",
     "text": [
      "irvan\n"
     ]
    }
   ],
   "source": [
    "print(list_str[0])"
   ]
  },
  {
   "cell_type": "code",
   "execution_count": 5,
   "id": "9692c514",
   "metadata": {},
   "outputs": [
    {
     "name": "stdout",
     "output_type": "stream",
     "text": [
      "aya\n"
     ]
    }
   ],
   "source": [
    "print(list_str[3])"
   ]
  },
  {
   "cell_type": "code",
   "execution_count": 6,
   "id": "41b92256",
   "metadata": {},
   "outputs": [
    {
     "name": "stdout",
     "output_type": "stream",
     "text": [
      "aulia\n"
     ]
    }
   ],
   "source": [
    "print(list_str[-1])"
   ]
  },
  {
   "cell_type": "code",
   "execution_count": 7,
   "id": "2f897a88",
   "metadata": {},
   "outputs": [
    {
     "name": "stdout",
     "output_type": "stream",
     "text": [
      "masitoh\n"
     ]
    }
   ],
   "source": [
    "print(list_str[-3])"
   ]
  },
  {
   "cell_type": "markdown",
   "id": "81d4ad47",
   "metadata": {},
   "source": [
    "### menambah data dibelakang"
   ]
  },
  {
   "cell_type": "code",
   "execution_count": 8,
   "id": "20f78577",
   "metadata": {},
   "outputs": [],
   "source": [
    "list_str.append(\"Marleni\")"
   ]
  },
  {
   "cell_type": "code",
   "execution_count": 9,
   "id": "ab02cf73",
   "metadata": {},
   "outputs": [
    {
     "name": "stdout",
     "output_type": "stream",
     "text": [
      "['irvan', 'adit', 'masitoh', 'aya', 'aulia', 'Marleni']\n"
     ]
    }
   ],
   "source": [
    "print(list_str)"
   ]
  },
  {
   "cell_type": "markdown",
   "id": "5308b94e",
   "metadata": {},
   "source": [
    "### mengganti komponen list"
   ]
  },
  {
   "cell_type": "code",
   "execution_count": 10,
   "id": "ae44c871",
   "metadata": {},
   "outputs": [
    {
     "name": "stdout",
     "output_type": "stream",
     "text": [
      "['Budiawan', 'adit', 'masitoh', 'aya', 'aulia', 'Marleni']\n"
     ]
    }
   ],
   "source": [
    "list_str[0] = \"Budiawan\"\n",
    "print(list_str)"
   ]
  },
  {
   "cell_type": "markdown",
   "id": "cdb33a6b",
   "metadata": {},
   "source": [
    "### menghapus data"
   ]
  },
  {
   "cell_type": "code",
   "execution_count": 11,
   "id": "3a84ca83",
   "metadata": {},
   "outputs": [],
   "source": [
    "del list_str[2]"
   ]
  },
  {
   "cell_type": "code",
   "execution_count": 12,
   "id": "e919cf92",
   "metadata": {},
   "outputs": [
    {
     "name": "stdout",
     "output_type": "stream",
     "text": [
      "['Budiawan', 'adit', 'aya', 'aulia', 'Marleni']\n"
     ]
    }
   ],
   "source": [
    "print(list_str)"
   ]
  },
  {
   "cell_type": "code",
   "execution_count": 13,
   "id": "5aaffe3c",
   "metadata": {},
   "outputs": [],
   "source": [
    "nama = list_str.pop(1)"
   ]
  },
  {
   "cell_type": "code",
   "execution_count": 14,
   "id": "477080a2",
   "metadata": {},
   "outputs": [
    {
     "name": "stdout",
     "output_type": "stream",
     "text": [
      "['Budiawan', 'aya', 'aulia', 'Marleni']\n"
     ]
    }
   ],
   "source": [
    "print(list_str)"
   ]
  },
  {
   "cell_type": "code",
   "execution_count": 15,
   "id": "ecf4d58b",
   "metadata": {},
   "outputs": [
    {
     "name": "stdout",
     "output_type": "stream",
     "text": [
      "adit\n"
     ]
    }
   ],
   "source": [
    "print(nama)"
   ]
  },
  {
   "cell_type": "markdown",
   "id": "2660feea",
   "metadata": {},
   "source": [
    "### multitype"
   ]
  },
  {
   "cell_type": "code",
   "execution_count": 16,
   "id": "4518e415",
   "metadata": {},
   "outputs": [],
   "source": [
    "data_irvan = [\"irvan\",30,2,1]\n",
    "data_marleni = [\"marleni\",17,0,\"lagi diproses\"]"
   ]
  },
  {
   "cell_type": "code",
   "execution_count": 17,
   "id": "3086ba69",
   "metadata": {},
   "outputs": [
    {
     "name": "stdout",
     "output_type": "stream",
     "text": [
      "['irvan', 30, 2, 1]\n"
     ]
    }
   ],
   "source": [
    "print(data_irvan)"
   ]
  },
  {
   "cell_type": "code",
   "execution_count": 18,
   "id": "ba0a6d0a",
   "metadata": {},
   "outputs": [],
   "source": [
    "def print_data(data):\n",
    "    print(f\"nama  : {data[0]}\")\n",
    "    print(f\"umur  : {data[1]}\")\n",
    "    print(f\"anak  : {data[2]}\")\n",
    "    print(f\"istri/suami : {data[3]}\")\n",
    "        "
   ]
  },
  {
   "cell_type": "code",
   "execution_count": 19,
   "id": "5b3f8728",
   "metadata": {},
   "outputs": [
    {
     "name": "stdout",
     "output_type": "stream",
     "text": [
      "nama  : irvan\n",
      "umur  : 30\n",
      "anak  : 2\n",
      "istri/suami : 1\n"
     ]
    }
   ],
   "source": [
    "print_data(data_irvan)"
   ]
  },
  {
   "cell_type": "code",
   "execution_count": 20,
   "id": "effbd589",
   "metadata": {},
   "outputs": [
    {
     "name": "stdout",
     "output_type": "stream",
     "text": [
      "nama  : marleni\n",
      "umur  : 17\n",
      "anak  : 0\n",
      "istri/suami : lagi diproses\n"
     ]
    }
   ],
   "source": [
    "print_data(data_marleni)"
   ]
  },
  {
   "cell_type": "code",
   "execution_count": null,
   "id": "47ddba93",
   "metadata": {},
   "outputs": [],
   "source": []
  }
 ],
 "metadata": {
  "kernelspec": {
   "display_name": "Python 3 (ipykernel)",
   "language": "python",
   "name": "python3"
  },
  "language_info": {
   "codemirror_mode": {
    "name": "ipython",
    "version": 3
   },
   "file_extension": ".py",
   "mimetype": "text/x-python",
   "name": "python",
   "nbconvert_exporter": "python",
   "pygments_lexer": "ipython3",
   "version": "3.9.13"
  }
 },
 "nbformat": 4,
 "nbformat_minor": 5
}
