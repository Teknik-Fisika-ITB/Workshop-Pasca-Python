{
 "cells": [
  {
   "cell_type": "code",
   "execution_count": 1,
   "id": "6131230d",
   "metadata": {},
   "outputs": [],
   "source": [
    "import fungsi"
   ]
  },
  {
   "cell_type": "code",
   "execution_count": 2,
   "id": "653d4fbc",
   "metadata": {},
   "outputs": [
    {
     "name": "stdout",
     "output_type": "stream",
     "text": [
      "100\n"
     ]
    }
   ],
   "source": [
    "hasil = fungsi.kuadrat(10)\n",
    "print(hasil)"
   ]
  },
  {
   "cell_type": "markdown",
   "id": "39c0c24f",
   "metadata": {},
   "source": [
    "## cara lain import"
   ]
  },
  {
   "cell_type": "code",
   "execution_count": 3,
   "id": "ffa71229",
   "metadata": {},
   "outputs": [],
   "source": [
    "from fungsi import kuadrat"
   ]
  },
  {
   "cell_type": "code",
   "execution_count": 4,
   "id": "07669c2e",
   "metadata": {},
   "outputs": [
    {
     "name": "stdout",
     "output_type": "stream",
     "text": [
      "25\n"
     ]
    }
   ],
   "source": [
    "output = kuadrat(5)\n",
    "print(output)"
   ]
  },
  {
   "cell_type": "markdown",
   "id": "9b972c86",
   "metadata": {},
   "source": [
    "## prosedur atau subprogram\n",
    "\n",
    "prosedur tidak memerlukan return dan tidak memiliki output"
   ]
  },
  {
   "cell_type": "code",
   "execution_count": 5,
   "id": "6a2bf68a",
   "metadata": {},
   "outputs": [],
   "source": [
    "from fungsi import tampilkan_hasil"
   ]
  },
  {
   "cell_type": "code",
   "execution_count": 6,
   "id": "54792a22",
   "metadata": {},
   "outputs": [
    {
     "name": "stdout",
     "output_type": "stream",
     "text": [
      "=========================\n",
      "hasil perhitungan = 10\n",
      "=========================\n"
     ]
    }
   ],
   "source": [
    "output_2 = tampilkan_hasil(\"y\",10)"
   ]
  },
  {
   "cell_type": "code",
   "execution_count": 8,
   "id": "dbe09296",
   "metadata": {},
   "outputs": [
    {
     "name": "stdout",
     "output_type": "stream",
     "text": [
      "None\n"
     ]
    }
   ],
   "source": [
    "print(output_2)"
   ]
  },
  {
   "cell_type": "code",
   "execution_count": null,
   "id": "db2f691c",
   "metadata": {},
   "outputs": [],
   "source": []
  }
 ],
 "metadata": {
  "kernelspec": {
   "display_name": "Python 3.9.13 ('base')",
   "language": "python",
   "name": "python3"
  },
  "language_info": {
   "codemirror_mode": {
    "name": "ipython",
    "version": 3
   },
   "file_extension": ".py",
   "mimetype": "text/x-python",
   "name": "python",
   "nbconvert_exporter": "python",
   "pygments_lexer": "ipython3",
   "version": "3.9.13"
  },
  "vscode": {
   "interpreter": {
    "hash": "186c45062af8093d51a5962574f783426caf3feb7f27cfe030f201780da03cdf"
   }
  }
 },
 "nbformat": 4,
 "nbformat_minor": 5
}
