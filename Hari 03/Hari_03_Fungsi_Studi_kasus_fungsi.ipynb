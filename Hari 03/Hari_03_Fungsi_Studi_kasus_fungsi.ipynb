{
 "cells": [
  {
   "cell_type": "markdown",
   "id": "1685bbd2",
   "metadata": {},
   "source": [
    "Hitung deret dengan $x = 10, y = 10+9+8+7+6+5+4+3+2+1$"
   ]
  },
  {
   "cell_type": "code",
   "execution_count": 6,
   "id": "6af2b2fe",
   "metadata": {},
   "outputs": [],
   "source": [
    "def deret(x):\n",
    "    batas_atas = x+1\n",
    "    hasil = 0\n",
    "    for i in range(batas_atas):\n",
    "        hasil = hasil + i\n",
    "    \n",
    "    return hasil\n",
    "        "
   ]
  },
  {
   "cell_type": "code",
   "execution_count": 7,
   "id": "6a41107b",
   "metadata": {},
   "outputs": [
    {
     "data": {
      "text/plain": [
       "55"
      ]
     },
     "execution_count": 7,
     "metadata": {},
     "output_type": "execute_result"
    }
   ],
   "source": [
    "deret(10)"
   ]
  },
  {
   "cell_type": "code",
   "execution_count": 8,
   "id": "9f18c475",
   "metadata": {},
   "outputs": [
    {
     "data": {
      "text/plain": [
       "15"
      ]
     },
     "execution_count": 8,
     "metadata": {},
     "output_type": "execute_result"
    }
   ],
   "source": [
    "deret(5)"
   ]
  },
  {
   "cell_type": "code",
   "execution_count": 10,
   "id": "1e0ce340",
   "metadata": {},
   "outputs": [
    {
     "data": {
      "text/plain": [
       "5101560555"
      ]
     },
     "execution_count": 10,
     "metadata": {},
     "output_type": "execute_result"
    }
   ],
   "source": [
    "deret(101010)"
   ]
  },
  {
   "cell_type": "code",
   "execution_count": null,
   "id": "0c8da752",
   "metadata": {},
   "outputs": [],
   "source": []
  }
 ],
 "metadata": {
  "kernelspec": {
   "display_name": "Python 3.9.13 ('base')",
   "language": "python",
   "name": "python3"
  },
  "language_info": {
   "codemirror_mode": {
    "name": "ipython",
    "version": 3
   },
   "file_extension": ".py",
   "mimetype": "text/x-python",
   "name": "python",
   "nbconvert_exporter": "python",
   "pygments_lexer": "ipython3",
   "version": "3.9.13"
  },
  "vscode": {
   "interpreter": {
    "hash": "186c45062af8093d51a5962574f783426caf3feb7f27cfe030f201780da03cdf"
   }
  }
 },
 "nbformat": 4,
 "nbformat_minor": 5
}
